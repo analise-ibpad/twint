{
 "cells": [
  {
   "cell_type": "code",
   "execution_count": null,
   "metadata": {},
   "outputs": [],
   "source": [
    "#!pip3 install twint\n",
    "#!pip3 install --user --upgrade -e git+https://github.com/twintproject/twint.git@origin/master#egg=twint\n",
    "#!pip3 install nest_asyncio"
   ]
  },
  {
   "cell_type": "code",
   "execution_count": null,
   "metadata": {},
   "outputs": [],
   "source": [
    "from datetime import date, timedelta\n",
    "from tqdm.notebook import tqdm\n",
    "import twint\n",
    "import nest_asyncio\n",
    "import pandas as pd\n",
    "import os\n",
    "\n",
    "# Pasta aonde as bases do scraping vão ser salvas\n",
    "path_scraper = '/Users/lucassouzaneves/Desktop/IBPAD/Twint/'"
   ]
  },
  {
   "cell_type": "code",
   "execution_count": null,
   "metadata": {},
   "outputs": [],
   "source": [
    "# Parâmetros de busca\n",
    "termos_busca = ['diario de quarentena','diario da quarentena']\n",
    "since_date = '2020-04-26 00:00:00'\n",
    "lang = 'pt'"
   ]
  },
  {
   "cell_type": "code",
   "execution_count": null,
   "metadata": {},
   "outputs": [],
   "source": [
    "os.chdir(path_scraper)\n",
    "df_geral = pd.DataFrame([])\n",
    "for termo in tqdm(termos_busca):\n",
    "    nest_asyncio.apply()\n",
    "    c = twint.Config()\n",
    "    c.Pandas = True\n",
    "    c.Hide_output=True\n",
    "    c.Retries_count=100\n",
    "    c.Debug=True\n",
    "    c.Search = termo\n",
    "    c.Lang = lang\n",
    "    c.Since = (since_date)\n",
    "    twint.run.Search(c)\n",
    "    df = twint.storage.panda.Tweets_df\n",
    "    df['termo_pesquisado'] = termo\n",
    "    df.to_csv(path_scraper + termo + '_tweets.csv', index=False, header=True, sep = '\\t')\n",
    "    df_geral = df_geral.append(df)"
   ]
  },
  {
   "cell_type": "code",
   "execution_count": null,
   "metadata": {},
   "outputs": [],
   "source": [
    "df_geral.to_csv(path_scraper + 'termos_geral_tweets.csv', index=False, header=True, sep = '\\t')"
   ]
  }
 ],
 "metadata": {
  "kernelspec": {
   "display_name": "Python 3",
   "language": "python",
   "name": "python3"
  },
  "language_info": {
   "codemirror_mode": {
    "name": "ipython",
    "version": 3
   },
   "file_extension": ".py",
   "mimetype": "text/x-python",
   "name": "python",
   "nbconvert_exporter": "python",
   "pygments_lexer": "ipython3",
   "version": "3.7.7"
  }
 },
 "nbformat": 4,
 "nbformat_minor": 4
}
